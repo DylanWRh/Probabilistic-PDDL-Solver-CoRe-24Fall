{
 "cells": [
  {
   "cell_type": "code",
   "execution_count": 65,
   "metadata": {},
   "outputs": [],
   "source": [
    "import numpy as np\n",
    "import queue"
   ]
  },
  {
   "cell_type": "code",
   "execution_count": 110,
   "metadata": {},
   "outputs": [],
   "source": [
    "N_BLOCKS = 3\n",
    "N_ITERS = 10"
   ]
  },
  {
   "cell_type": "code",
   "execution_count": 117,
   "metadata": {},
   "outputs": [],
   "source": [
    "test_prob = np.array(\n",
    "    [\n",
    "        [0, 1, 0, 0, 0],\n",
    "        [0, 0, 0, 0, 1],\n",
    "        [1, 0, 0, 1, 0]\n",
    "    ]\n",
    ")\n",
    "# Block 0 on Block 1\n",
    "test_prob2 = np.array(\n",
    "    [\n",
    "        [0, 0, 0, .9, .8],\n",
    "        [0, 0, 0, .78, .98],\n",
    "        [0, 0, 0, .8, .9]\n",
    "    ]\n",
    ")"
   ]
  },
  {
   "cell_type": "code",
   "execution_count": 111,
   "metadata": {},
   "outputs": [],
   "source": [
    "def atom2idx(atom):\n",
    "    atom_type = atom[0]\n",
    "    if atom_type.lower() == 'clear':\n",
    "        block_idx = atom[1] - 1\n",
    "        return (block_idx, -2)\n",
    "    elif atom_type.lower() == 'ontable':\n",
    "        block_idx = atom[1] - 1\n",
    "        return (block_idx, -1)\n",
    "    elif atom_type.lower() == 'on':\n",
    "        block_a, block_b = atom[1] - 1, atom[2] - 1\n",
    "        return (block_a, block_b)\n",
    "    else:\n",
    "        raise NotImplementedError()"
   ]
  },
  {
   "cell_type": "code",
   "execution_count": 112,
   "metadata": {},
   "outputs": [
    {
     "name": "stdout",
     "output_type": "stream",
     "text": [
      "(0, -1)\n",
      "0\n"
     ]
    }
   ],
   "source": [
    "print(atom2idx(['OnTable', 1]))\n",
    "print(test_prob[atom2idx(['OnTable', 1])])"
   ]
  },
  {
   "cell_type": "code",
   "execution_count": 113,
   "metadata": {},
   "outputs": [],
   "source": [
    "def get_atom_prob(state, atom):\n",
    "    return state[atom2idx(atom)]"
   ]
  },
  {
   "cell_type": "code",
   "execution_count": 114,
   "metadata": {},
   "outputs": [
    {
     "data": {
      "text/plain": [
       "1"
      ]
     },
     "execution_count": 114,
     "metadata": {},
     "output_type": "execute_result"
    }
   ],
   "source": [
    "get_atom_prob(test_prob2, ['onTable', 0])"
   ]
  },
  {
   "cell_type": "code",
   "execution_count": 115,
   "metadata": {},
   "outputs": [],
   "source": [
    "def get_applicability(state, action):\n",
    "    block_a, block_b = action[1], action[2]\n",
    "    return get_atom_prob(state, ['Clear', block_a]) * get_atom_prob(state, ['Clear', block_b])"
   ]
  },
  {
   "cell_type": "code",
   "execution_count": 116,
   "metadata": {},
   "outputs": [
    {
     "name": "stdout",
     "output_type": "stream",
     "text": [
      "1\n",
      "1\n"
     ]
    }
   ],
   "source": [
    "print(get_applicability(test_prob2, ['put', 0, 1]))\n",
    "print(get_applicability(test_prob2, ['put', 1, 0]))"
   ]
  },
  {
   "cell_type": "code",
   "execution_count": 74,
   "metadata": {},
   "outputs": [],
   "source": [
    "def get_effective_set(action):\n",
    "    block_a, block_b = action[1], action[2]\n",
    "    return (\n",
    "        [\n",
    "            ['on', block_a, block_b]\n",
    "        ],\n",
    "        [\n",
    "            ['clear', block_b],\n",
    "        ]\n",
    "    )"
   ]
  },
  {
   "cell_type": "code",
   "execution_count": 75,
   "metadata": {},
   "outputs": [
    {
     "name": "stdout",
     "output_type": "stream",
     "text": [
      "([['on', 1, 2]], [['clear', 2]])\n"
     ]
    }
   ],
   "source": [
    "print(get_effective_set(['put', 1, 2]))"
   ]
  },
  {
   "cell_type": "code",
   "execution_count": 99,
   "metadata": {},
   "outputs": [],
   "source": [
    "def apply_action(state, action):\n",
    "    new_state = state.copy()\n",
    "    positive_set, negative_set = get_effective_set(action)\n",
    "    applicability = get_applicability(state, action)\n",
    "    for positive_atom in positive_set:\n",
    "        atom_idx = atom2idx(positive_atom)\n",
    "        new_state[atom_idx] = np.clip(applicability + (1 - applicability) * state[atom_idx], 0, 1)\n",
    "    for negative_atom in negative_set:\n",
    "        atom_idx = atom2idx(negative_atom)\n",
    "        new_state[atom_idx] = np.clip(state[atom_idx] - applicability, 0, 1)\n",
    "    return new_state"
   ]
  },
  {
   "cell_type": "code",
   "execution_count": 77,
   "metadata": {},
   "outputs": [
    {
     "name": "stdout",
     "output_type": "stream",
     "text": [
      "[[0.  0.1 0.9 0.8]\n",
      " [0.1 0.  0.8 0.9]]\n",
      "0.7200000000000001\n",
      "[[0.    0.1   0.18  0.8  ]\n",
      " [0.748 0.    0.8   0.9  ]]\n"
     ]
    }
   ],
   "source": [
    "print(test_prob2)\n",
    "print(apply_action(test_prob2, ['put', 2, 1]))"
   ]
  },
  {
   "cell_type": "code",
   "execution_count": 118,
   "metadata": {},
   "outputs": [],
   "source": [
    "def list_action(n_blocks):\n",
    "    res = []\n",
    "    for i in range(1, n_blocks + 1):\n",
    "        for j in range(1, n_blocks + 1):\n",
    "            if i != j:\n",
    "                res.append(['put', i, j])\n",
    "    return res"
   ]
  },
  {
   "cell_type": "code",
   "execution_count": 119,
   "metadata": {},
   "outputs": [
    {
     "name": "stdout",
     "output_type": "stream",
     "text": [
      "[['put', 1, 2], ['put', 1, 3], ['put', 2, 1], ['put', 2, 3], ['put', 3, 1], ['put', 3, 2]]\n"
     ]
    }
   ],
   "source": [
    "ACTIONS = list_action(N_BLOCKS)\n",
    "print(ACTIONS)"
   ]
  },
  {
   "cell_type": "code",
   "execution_count": 131,
   "metadata": {},
   "outputs": [],
   "source": [
    "def evaluate_state(curr, goal):\n",
    "    return np.linalg.norm(curr[..., :-1] - goal[..., :-1])"
   ]
  },
  {
   "cell_type": "code",
   "execution_count": 132,
   "metadata": {},
   "outputs": [
    {
     "name": "stdout",
     "output_type": "stream",
     "text": [
      "1.8596773913773323\n"
     ]
    }
   ],
   "source": [
    "print(evaluate_state(test_prob, test_prob2))"
   ]
  },
  {
   "cell_type": "code",
   "execution_count": 136,
   "metadata": {},
   "outputs": [],
   "source": [
    "def naive_bfs(state, goal, max_len, eps=1e-5):\n",
    "    valid_action_list = ACTIONS\n",
    "    state_queue = queue.Queue()\n",
    "    state_queue.put((state, [], evaluate_state(state, goal)))\n",
    "    while state_queue.qsize() < max_len:\n",
    "        curr_state, plan, _ = state_queue.get()\n",
    "        min_error = 1e10\n",
    "        for action in valid_action_list:\n",
    "            next_state = apply_action(curr_state, action)\n",
    "            error = evaluate_state(next_state, goal)\n",
    "            state_queue.put((next_state, plan + [action], error))\n",
    "            min_error = min(min_error, error)\n",
    "        if min_error < eps:\n",
    "            break\n",
    "    selected = sorted(list(state_queue.queue), key=lambda a: a[-1])[0]\n",
    "    return selected[1][0]"
   ]
  },
  {
   "cell_type": "code",
   "execution_count": 137,
   "metadata": {},
   "outputs": [
    {
     "name": "stdout",
     "output_type": "stream",
     "text": [
      "(array([[0.       , 0.7229196, 0.       , 0.18     , 0.8      ],\n",
      "       [0.       , 0.       , 0.       , 0.0078   , 0.98     ],\n",
      "       [0.72     , 0.       , 0.       , 0.8      , 0.9      ]]), [['put', 1, 2], ['put', 1, 2], ['put', 3, 1]], 0.4771104568799136)\n",
      "['put', 1, 2]\n"
     ]
    }
   ],
   "source": [
    "print(naive_bfs(test_prob2, test_prob, 50))"
   ]
  }
 ],
 "metadata": {
  "kernelspec": {
   "display_name": "cv",
   "language": "python",
   "name": "python3"
  },
  "language_info": {
   "codemirror_mode": {
    "name": "ipython",
    "version": 3
   },
   "file_extension": ".py",
   "mimetype": "text/x-python",
   "name": "python",
   "nbconvert_exporter": "python",
   "pygments_lexer": "ipython3",
   "version": "3.11.5"
  }
 },
 "nbformat": 4,
 "nbformat_minor": 2
}
